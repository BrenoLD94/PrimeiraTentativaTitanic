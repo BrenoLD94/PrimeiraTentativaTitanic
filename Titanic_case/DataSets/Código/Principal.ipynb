{
 "cells": [
  {
   "cell_type": "code",
   "execution_count": null,
   "metadata": {},
   "outputs": [],
   "source": [
    "#importando bibliotecas\n",
    "\n",
    "#IMPRIMO OS GRÁFICOS DENTRO DO JUPYTER\n",
    "%matplotlib inline\n",
    "\n",
    "#manipulação de dados de arrays\n",
    "import numpy as mp\n",
    "import pandas as pd\n",
    "\n",
    "#machine learning\n",
    "import sklearn as sk\n",
    "from sklearn import svm\n",
    "\n",
    "#visualização\n",
    "import matplotlib.pyplot as plt\n",
    "import seaborn as sns"
   ]
  },
  {
   "cell_type": "code",
   "execution_count": null,
   "metadata": {},
   "outputs": [],
   "source": [
    "#sites para auxílio\n",
    "#https://www.vooo.pro/insights/12-tecnicas-pandas-uteis-em-python-para-manipulacao-de-dados/\n",
    "\n",
    "#http://minerandodados.com.br/index.php/2017/05/30/7-tipos-graficos-cientista-de-dados/\n",
    "\n",
    "#https://pythonspot.com/matplotlib-pie-chart/ -> para colocar valores nas fatias\n",
    "\n",
    "#documentação bem ampla\n",
    "#https://matplotlib.org/api/pyplot_api.html#matplotlib.pyplot.pie\n",
    "\n",
    "#bons exemplos\n",
    "#https://pythonspot.com/en/matplotlib-gallery/"
   ]
  },
  {
   "cell_type": "code",
   "execution_count": null,
   "metadata": {},
   "outputs": [],
   "source": [
    "#lendo o dataset\n",
    "titanic = pd.read_csv(\"../Treino/train.csv\")\n",
    "titanic_teste = pd.read_csv(\"../Teste/test.csv\")\n",
    "\n",
    "\n",
    "# mostra os tipos das variáveis do dataset\n",
    "titanic.dtypes\n",
    "titanic_teste.tail()"
   ]
  },
  {
   "cell_type": "code",
   "execution_count": null,
   "metadata": {},
   "outputs": [],
   "source": [
    "# variáveis numéricas/quantitativas: \n",
    "#    - discreta: sibsp, parch\n",
    "#    - continuous: age, fare\n",
    "\n",
    "# variáveis categóricas/qualitativas:\n",
    "#    - nominal: name, ticket, survived, cabin\n",
    "#    - ordinal: Pclass\n",
    "\n",
    "titanic.info()"
   ]
  },
  {
   "cell_type": "code",
   "execution_count": null,
   "metadata": {},
   "outputs": [],
   "source": [
    "#COLUNAS QUE NÃO CONTRIBUEM PARA A ANÁLISE SÃO RETIRADAS\n",
    "titanic1 = titanic.copy()\n",
    "titanic1.drop(['PassengerId','Cabin','Ticket','Name'], axis=1, inplace=True)\n",
    "\n",
    "titanic_teste.drop(['PassengerId','Cabin','Ticket','Name'], axis=1, inplace=True)"
   ]
  },
  {
   "cell_type": "code",
   "execution_count": null,
   "metadata": {},
   "outputs": [],
   "source": [
    "# armazena a quantidade total de mulheres e a quantidade de mulheres que sobreviveram\n",
    "qtd = len(titanic[titanic['Sex'] == 'female'])\n",
    "survive = len(titanic[(titanic['Sex'] == 'female') & ((titanic['Survived']) == 1)]) \n",
    "\n",
    "info_female = {\"quantidade\": qtd, \"sobreviventes\": survive}\n",
    "\n",
    "# armazena a quantidade total de homens e a quantidade de homens que sobreviveram \n",
    "qtd_H = len(titanic[titanic['Sex'] == 'male'])\n",
    "survive_H = len(titanic[(titanic['Sex'] == 'male') & ((titanic['Survived']) == 1)])\n",
    "\n",
    "info_male = {\"quantidade\": qtd_H, \"sobreviventes\": survive_H}\n",
    "\n",
    "#VOU ADOTAR QUE,\n",
    "#CLASSE 1 = RICA\n",
    "#CLASSE 2 = MÉDIA\n",
    "#CLASSE 3 = POBRE\n",
    "\n",
    "# armazena a quantidade de pessoas de cada classe social\n",
    "info_male['qtd_ricos'] = len(titanic[(titanic['Sex'] == 'male') & (titanic['Pclass'] == 1)])\n",
    "info_male['qtd_classe_media'] = len(titanic[(titanic['Sex'] == 'male') & (titanic['Pclass'] == 2)])\n",
    "info_male['qtd_pobres'] = len(titanic[(titanic['Sex'] == 'male') & (titanic['Pclass'] == 3)])\n",
    "\n",
    "info_female['qtd_ricos'] = len(titanic[(titanic['Sex'] == 'female') & (titanic['Pclass'] == 1)])\n",
    "info_female['qtd_classe_media'] = len(titanic[(titanic['Sex'] == 'female') & (titanic['Pclass'] == 2)])\n",
    "info_female['qtd_pobres'] = len(titanic[(titanic['Sex'] == 'female') & (titanic['Pclass'] == 3)])"
   ]
  },
  {
   "cell_type": "markdown",
   "metadata": {},
   "source": [
    "# visualização de dados"
   ]
  },
  {
   "cell_type": "code",
   "execution_count": null,
   "metadata": {},
   "outputs": [],
   "source": [
    "vivos = len(titanic[titanic['Survived'] == 1])\n",
    "mortos = len(titanic[titanic['Survived'] == 0])\n",
    "\n",
    "fatias = [vivos, mortos]\n",
    "labels = ['Sobreviventes','Mortos']\n",
    "\n",
    "plt.pie(fatias,labels=labels,autopct='%1.1f%%',colors=['g','r'])\n",
    "plt.legend(loc='upper left',prop={'size':10})\n",
    "plt.title('Relação quantidade de sobreviventes X mortos')\n",
    "plt.show()"
   ]
  },
  {
   "cell_type": "code",
   "execution_count": null,
   "metadata": {},
   "outputs": [],
   "source": [
    "#RELAÇÃO ENTRE HOMENS E MULHERES QUE SOBREVIVERAM\n",
    "M = len(titanic[(titanic['Sex'] == 'female') & (titanic['Survived'] == 1)])\n",
    "H = len(titanic[(titanic['Sex'] == 'male') & (titanic['Survived'] == 1)])\n",
    "\n",
    "plt.bar('Mulheres sobreviventes',M, label='Mulher', color='pink')\n",
    "plt.bar('Homens sobreviventes',H,label='Homem',color='b')\n",
    "plt.title(\"Quantidade de passageiros: \" + str(len(titanic['PassengerId'])))\n",
    "plt.legend()\n",
    "plt.show()\n",
    "\n",
    "print(\"\\n\\n\")\n",
    "\n",
    "#-------------------------------------------------------------------------------------------------------------------------\n",
    "\n",
    "#RELAÇÃO ENTRE HOMENS E MULHERES QUE NÃO SOBREVIVERAM\n",
    "M1 = len(titanic[(titanic['Sex'] == 'female') & (titanic['Survived'] == 0)])\n",
    "H1 = len(titanic[(titanic['Sex'] == 'male') & (titanic['Survived'] == 0)])\n",
    "\n",
    "plt.bar('Mulheres não Sobreviventes',M1,color='pink',label='Mulher')\n",
    "plt.bar('Homens não Sobreviventes',H1, label='Homen', color='b')\n",
    "plt.title(\"Quantidade de passageiros: \" + str(len(titanic['PassengerId'])))\n",
    "plt.legend()\n",
    "plt.show()"
   ]
  },
  {
   "cell_type": "code",
   "execution_count": null,
   "metadata": {},
   "outputs": [],
   "source": [
    "titanic.head()"
   ]
  },
  {
   "cell_type": "code",
   "execution_count": null,
   "metadata": {},
   "outputs": [],
   "source": [
    "#mulheres que embarcaram em Southampton e sobreviveram \n",
    "Mulheres_S = len(titanic[(titanic['Sex'] == 'female') & (titanic['Survived'] == 1) & (titanic['Embarked'] == 'S')])\n",
    "\n",
    "#mulheres que embarcaram em Queenstown e sobreviveram\n",
    "Mulheres_Q = len(titanic[(titanic['Sex'] == 'female') & (titanic['Survived'] == 1) & (titanic['Embarked'] == 'Q')])\n",
    "\n",
    "#mulheres que embarcaram em Cherbourg e sobreviveram\n",
    "Mulheres_C = len(titanic[(titanic['Sex'] == 'female') & (titanic['Survived'] == 1) & (titanic['Embarked'] == 'C')])\n",
    "\n",
    "#dados para plot\n",
    "labels = ['Southampton','Queenstown','Cherbourg']\n",
    "sizes = [Mulheres_S,Mulheres_Q,Mulheres_C]\n",
    "explode = (0.1,0,0)\n",
    "\n",
    "#plot\n",
    "plt.pie(sizes,explode=explode,labels=labels,autopct='%.1f%%', shadow=True)\n",
    "plt.title('Mulheres sobreviventes e seus portos de embarque')\n",
    "plt.legend()\n",
    "plt.show()\n",
    "\n",
    "print(\"\\n\\n\")\n",
    "\n",
    "#--------------------------------------------------homens-----------------------------------------------------------------------\n",
    "\n",
    "#homens que embarcaram em Southampton e sobreviveram \n",
    "homens_S = len(titanic[(titanic['Sex'] == 'male') & (titanic['Survived'] == 1) & (titanic['Embarked'] == 'S')])\n",
    "\n",
    "#homens que embarcaram em Queenstown e sobreviveram\n",
    "homens_Q = len(titanic[(titanic['Sex'] == 'male') & (titanic['Survived'] == 1) & (titanic['Embarked'] == 'Q')])\n",
    "\n",
    "#homens que embarcaram em Cherbourg e sobreviveram\n",
    "homens_C = len(titanic[(titanic['Sex'] == 'male') & (titanic['Survived'] == 1) & (titanic['Embarked'] == 'C')])\n",
    "\n",
    "#dados para plot\n",
    "labels = ['Southampton','Queenstown','Cherbourg']\n",
    "sizes = [homens_S, homens_Q, homens_C]\n",
    "explode = (0.1,0,0)\n",
    "\n",
    "#plot\n",
    "plt.pie(sizes,explode=explode,labels=labels,autopct='%.1f%%', shadow=True)\n",
    "plt.title('Homens sobreviventes e seus portos de embarque')\n",
    "plt.legend()\n",
    "plt.show()\n",
    "\n",
    "#--------------------------------------------------comentários-----------------------------------------------------------------------\n",
    "\n",
    "#A maioria tanto dos homens quanto das mulheres sobreviventes foram de Southmpton, mas isso se deve somente ao fato de \n",
    "# a maioria das pessoas terem vindo de lá."
   ]
  },
  {
   "cell_type": "code",
   "execution_count": null,
   "metadata": {},
   "outputs": [],
   "source": [
    "# QUANTIDADE A RESPEITO DA COLUNA FARE\n",
    "print(titanic1['Fare'].agg(['max','min','mean','count']),\"\\n\\n\")\n",
    "\n",
    "#HISTOGRAMA DA FREQUÊNCIA PARA TAXA DE EMBARQUE(FARE)\n",
    "titanic1['Fare'].plot(kind='hist')\n",
    "plt.grid()\n",
    "plt.title(\"Fare(taxa de embarque)\")\n",
    "plt.show()"
   ]
  },
  {
   "cell_type": "markdown",
   "metadata": {},
   "source": [
    "# modificação dos dados"
   ]
  },
  {
   "cell_type": "code",
   "execution_count": null,
   "metadata": {},
   "outputs": [],
   "source": [
    "# modificar o fare para números discretos\n",
    "# [0,25] muito pobre = 0\n",
    "# (25,50] pobre = 1\n",
    "# (50,100] médio = 2\n",
    "# (100,250] média alta = 3\n",
    "# (250, ~) rico = 4\n",
    "\n",
    "def fare_to_discretValue(titanic):\n",
    "    lista = titanic['Fare']\n",
    "    lista2 = []\n",
    "\n",
    "    for valor in lista:\n",
    "        if((float(valor) >= 0) & (float(valor) <= 25)):\n",
    "            lista2.append(int(0))\n",
    "        elif((float(valor) > 25) & (float(valor) <= 50)):\n",
    "            lista2.append(int(1))\n",
    "        elif((float(valor) > 50) & (float(valor) <= 100)):\n",
    "            lista2.append(int(2))\n",
    "        elif((float(valor) > 100) & (float(valor) <= 250)):\n",
    "            lista2.append(int(3))\n",
    "        elif(float(valor) > 250):\n",
    "            lista2.append(int(4))\n",
    "        else:\n",
    "            lista2.append(int(5))\n",
    "            \n",
    "    return lista2\n",
    "\n",
    "#dados de treino\n",
    "titanic2 = titanic1.copy()\n",
    "titanic2.Fare = fare_to_discretValue(titanic1)\n",
    "\n",
    "#dados de teste\n",
    "titanic_teste.Fare = fare_to_discretValue(titanic_teste)"
   ]
  },
  {
   "cell_type": "code",
   "execution_count": null,
   "metadata": {},
   "outputs": [],
   "source": [
    "# modificar a idade para valores discretos\n",
    "# 0 ~ 10 criança = 0\n",
    "# 11 ~ 19 adolescente = 1\n",
    "# 20 ~ 30 jovem adulto = 2\n",
    "# 31 ~ 59 adulto = 3\n",
    "# 60 ~ idoso = 4\n",
    "# indefinido = 5\n",
    "\n",
    "def Age_to_discreteInterval(titanic):\n",
    "    lista = titanic['Age']\n",
    "    lista2 = []\n",
    "    for valor in lista:\n",
    "        if((valor > 0) & (valor <= 10)):\n",
    "            lista2.append(int(0))\n",
    "        elif((valor >= 11) & (valor <= 19)):\n",
    "            lista2.append(int(1))\n",
    "        elif((valor >= 20) & (valor <= 30)):\n",
    "            lista2.append(int(2))\n",
    "        elif((valor >= 31) & (valor <= 59)):\n",
    "            lista2.append(int(3))\n",
    "        elif(valor >= 60):\n",
    "            lista2.append(int(4))\n",
    "        else:\n",
    "            lista2.append(int(5))\n",
    "    return lista2\n",
    "\n",
    "#dados de treino\n",
    "titanic3 = titanic2.copy()\n",
    "titanic3['Age'] = Age_to_discreteInterval(titanic2)\n",
    "\n",
    "#dados de teste\n",
    "titanic_teste.Age = Age_to_discreteInterval(titanic_teste)"
   ]
  },
  {
   "cell_type": "code",
   "execution_count": null,
   "metadata": {},
   "outputs": [],
   "source": [
    "# trocar dados categóricos para dados numéricos\n",
    "# 0 - female\n",
    "# 1 = male\n",
    "\n",
    "def sex_to_discrete(titanic):\n",
    "    lista = []\n",
    "    for valor in titanic['Sex']:\n",
    "        if(valor == 'female'):\n",
    "            lista.append(0)\n",
    "        else:\n",
    "            lista.append(1)\n",
    "    return lista\n",
    "\n",
    "#dados de treino\n",
    "titanic4 = titanic3.copy()\n",
    "titanic4['Sex'] = sex_to_discrete(titanic3)\n",
    "\n",
    "#dados de teste\n",
    "titanic_teste.Sex = sex_to_discrete(titanic_teste)"
   ]
  },
  {
   "cell_type": "code",
   "execution_count": null,
   "metadata": {},
   "outputs": [],
   "source": [
    "#juntando duas colunas em uma coluna só\n",
    "\n",
    "#dados de treino\n",
    "family = titanic4['SibSp'] + titanic4['Parch']\n",
    "titanic5 = titanic4.copy()\n",
    "titanic5.drop(['SibSp','Parch'], axis=1, inplace=True)\n",
    "titanic5['Family'] = family\n",
    "\n",
    "#dados de teste\n",
    "titanic_teste['Family'] = titanic_teste['SibSp'] + titanic_teste['Parch']\n",
    "titanic_teste.drop(['SibSp','Parch'], axis=1, inplace=True)"
   ]
  },
  {
   "cell_type": "code",
   "execution_count": null,
   "metadata": {},
   "outputs": [],
   "source": [
    "# TROCANDO VARIÁVEIS CATEGÓRICAS POR NUMÉRICAS DISCRETA\n",
    "# S = 0\n",
    "# Q = 1\n",
    "# C = 2\n",
    "\n",
    "def embarked_to_numeric(titanic):\n",
    "    lista = []\n",
    "    for valor in titanic['Embarked']:\n",
    "        if(valor == 'S'):\n",
    "            lista.append(0)\n",
    "        elif(valor == 'Q'):\n",
    "            lista.append(1)\n",
    "        elif(valor == 'C'):\n",
    "            lista.append(2)\n",
    "        else:\n",
    "            lista.append(3)\n",
    "    return lista\n",
    "\n",
    "#dados de treino\n",
    "titanic6 = titanic5.copy()\n",
    "titanic6['Embarked'] = embarked_to_numeric(titanic5)\n",
    "\n",
    "#dados de teste\n",
    "titanic_teste.Embarked = embarked_to_numeric(titanic_teste)"
   ]
  },
  {
   "cell_type": "code",
   "execution_count": null,
   "metadata": {
    "scrolled": true
   },
   "outputs": [],
   "source": [
    "# RELAÇÃO DE SOBREVIVÊNCIA POR IDADE\n",
    "x = titanic6[titanic6['Survived'] == 0].Age\n",
    "plt.hist(x)\n",
    "plt.title('Categoria das idades não sobreviventes')\n",
    "plt.grid()\n",
    "plt.ylabel('Frequency')\n",
    "plt.show()\n",
    "#-------------------------------------------------------------------------------------------------------------------------\n",
    "\n",
    "print(\"\\n\\n\")\n",
    "\n",
    "#-------------------------------------------------------------------------------------------------------------------------\n",
    "x2 = titanic6[titanic6['Survived'] == 1].Age\n",
    "plt.hist(x2)\n",
    "plt.title('Categoria das idades dos sobreviventes')\n",
    "plt.grid()\n",
    "plt.ylabel('Frequency')\n",
    "plt.show()"
   ]
  },
  {
   "cell_type": "code",
   "execution_count": null,
   "metadata": {},
   "outputs": [],
   "source": [
    "#RELAÇÃO DE SOBREVIVÊNCIA POR NÚMERO DE FAMILIARES À BORDO\n",
    "\n",
    "x = titanic6[titanic6['Survived'] == 1].Family\n",
    "plt.hist(x)\n",
    "plt.title('número de familiares à bordo dos sobreviventes')\n",
    "plt.grid()\n",
    "plt.ylabel('Frequency')\n",
    "plt.show()\n",
    "\n",
    "#-------------------------------------------------------------------------------------------------------------------------\n",
    "\n",
    "x2 = titanic6[titanic6['Survived'] == 0].Family\n",
    "plt.hist(x2,color='purple')\n",
    "plt.title('número de familiares à bordo dos não sobreviventes')\n",
    "plt.grid()\n",
    "plt.ylabel('Frequency')\n",
    "plt.show()"
   ]
  },
  {
   "cell_type": "code",
   "execution_count": null,
   "metadata": {},
   "outputs": [],
   "source": [
    "# RELAÇÃO DE SOBREVIVENTES POR CLASSE SOCIAL\n",
    "\n",
    "total = titanic6.count().max()\n",
    "\n",
    "S1 = round((len(titanic6[(titanic6['Survived'] == 1) & (titanic6['Pclass'] == 1)])/len(titanic6[titanic6['Pclass'] == 1]))*100,2)\n",
    "S2 = round((len(titanic6[(titanic6['Survived'] == 1) & (titanic6['Pclass'] == 2)])/len(titanic6[titanic6['Pclass'] == 2]))*100,2)\n",
    "S3 = round((len(titanic6[(titanic6['Survived'] == 1) & (titanic6['Pclass'] == 3)])/len(titanic6[titanic6['Pclass'] == 3]))*100,2)\n",
    "\n",
    "\n",
    "print(\"Dos\",len(titanic6[titanic6['Pclass'] == 1]),\"ricos à bordo,\",S1,'% sobreviveram')\n",
    "print(\"Dos\",len(titanic6[titanic6['Pclass'] == 2]),\"de classe média à bordo,\",S2,'% sobreviveu')\n",
    "print(\"Dos\",len(titanic6[titanic6['Pclass'] == 3]),\"pobres à bordo,\",S3,'% sobreviveram')"
   ]
  },
  {
   "cell_type": "markdown",
   "metadata": {},
   "source": [
    "# ANÁLISE: \n",
    "# 1º: OS RICOS TEM MAIS CHANCES DE SOBREVIVEREM\n",
    "# 2º: AS MULHERES TÊM MAIS CHANCES DE SOBREVIVEREM\n",
    "# 3º: CRIANÇAS, ADOLESCENTES TEM MAIS CHANCES DE SOBREVIVEREM\n",
    "# 4º: PESSOAS COM POUCOS FAMILIARES À BORDO TÊM MAIS CHANCES DE SOBREVIVEREM"
   ]
  },
  {
   "cell_type": "code",
   "execution_count": null,
   "metadata": {},
   "outputs": [],
   "source": [
    "# há um número razoável de pessoas que não pagaram nada e ficaram em classes altas\n",
    "print(len(titanic6[(titanic6['Pclass'] == 2) & (titanic6['Fare'] == 0) & (titanic6['Age'] > 1) & (titanic6['Age'] < 5)]))"
   ]
  },
  {
   "cell_type": "code",
   "execution_count": null,
   "metadata": {},
   "outputs": [],
   "source": [
    "titanic6.tail(15)"
   ]
  },
  {
   "cell_type": "code",
   "execution_count": null,
   "metadata": {},
   "outputs": [],
   "source": [
    "titanic_teste.tail(15)"
   ]
  },
  {
   "cell_type": "code",
   "execution_count": null,
   "metadata": {},
   "outputs": [],
   "source": [
    "X_treino = titanic6.drop(\"Survived\",axis=1)\n",
    "Y_treino = titanic6['Survived']\n",
    "\n",
    "X_teste = titanic_teste"
   ]
  },
  {
   "cell_type": "code",
   "execution_count": null,
   "metadata": {},
   "outputs": [],
   "source": [
    "X_treino.shape, Y_treino.shape, X_teste.shape"
   ]
  },
  {
   "cell_type": "code",
   "execution_count": null,
   "metadata": {},
   "outputs": [],
   "source": [
    "svc = svm.SVC()\n",
    "svc.fit(X_treino,Y_treino)\n",
    "Y_pred = svc.predict(X_teste)\n",
    "acc_svc = round(svc.score(X_treino, Y_treino) * 100, 2)\n",
    "acc_svc"
   ]
  },
  {
   "cell_type": "code",
   "execution_count": null,
   "metadata": {},
   "outputs": [],
   "source": [
    "resposta = pd.read_csv(\"../Resposta/gender_submission.csv\")\n",
    "(Y_pred == resposta.Survived).sum()"
   ]
  },
  {
   "cell_type": "code",
   "execution_count": null,
   "metadata": {},
   "outputs": [],
   "source": []
  }
 ],
 "metadata": {
  "kernelspec": {
   "display_name": "Python 3",
   "language": "python",
   "name": "python3"
  },
  "language_info": {
   "codemirror_mode": {
    "name": "ipython",
    "version": 3
   },
   "file_extension": ".py",
   "mimetype": "text/x-python",
   "name": "python",
   "nbconvert_exporter": "python",
   "pygments_lexer": "ipython3",
   "version": "3.6.4"
  }
 },
 "nbformat": 4,
 "nbformat_minor": 2
}
